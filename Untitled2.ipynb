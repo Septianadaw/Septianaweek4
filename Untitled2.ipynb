{
  "nbformat": 4,
  "nbformat_minor": 0,
  "metadata": {
    "colab": {
      "provenance": [],
      "authorship_tag": "ABX9TyNqJRqfRulVzJJ6UCZlicB0",
      "include_colab_link": true
    },
    "kernelspec": {
      "name": "python3",
      "display_name": "Python 3"
    },
    "language_info": {
      "name": "python"
    }
  },
  "cells": [
    {
      "cell_type": "markdown",
      "metadata": {
        "id": "view-in-github",
        "colab_type": "text"
      },
      "source": [
        "<a href=\"https://colab.research.google.com/github/Septianadaw/Septianaweek4/blob/main/Untitled2.ipynb\" target=\"_parent\"><img src=\"https://colab.research.google.com/assets/colab-badge.svg\" alt=\"Open In Colab\"/></a>"
      ]
    },
    {
      "cell_type": "code",
      "execution_count": null,
      "metadata": {
        "colab": {
          "base_uri": "https://localhost:8080/"
        },
        "id": "V8nyJuKshF4H",
        "outputId": "d9185f5a-bcc3-4c91-efbe-14d349f056e2"
      },
      "outputs": [
        {
          "output_type": "execute_result",
          "data": {
            "text/plain": [
              "False"
            ]
          },
          "metadata": {},
          "execution_count": 5
        }
      ],
      "source": [
        "# Condition Equal\n",
        "\n",
        "a = 5\n",
        "a == 6"
      ]
    },
    {
      "cell_type": "code",
      "source": [
        "# Greater than Sign\n",
        "\n",
        "i = 6\n",
        "i > 5"
      ],
      "metadata": {
        "colab": {
          "base_uri": "https://localhost:8080/"
        },
        "id": "wzGWAPLshkh0",
        "outputId": "9a47cba5-b28e-4ea4-d882-3c1c0afa0050"
      },
      "execution_count": null,
      "outputs": [
        {
          "output_type": "execute_result",
          "data": {
            "text/plain": [
              "True"
            ]
          },
          "metadata": {},
          "execution_count": 6
        }
      ]
    },
    {
      "cell_type": "code",
      "source": [
        "# Greater than Sign\n",
        "\n",
        "i = 2\n",
        "i > 5"
      ],
      "metadata": {
        "colab": {
          "base_uri": "https://localhost:8080/"
        },
        "id": "FG1XHo6ZhoQj",
        "outputId": "53cc4c10-5924-471f-900c-dbaf3273aca6"
      },
      "execution_count": null,
      "outputs": [
        {
          "output_type": "execute_result",
          "data": {
            "text/plain": [
              "False"
            ]
          },
          "metadata": {},
          "execution_count": 7
        }
      ]
    },
    {
      "cell_type": "code",
      "source": [
        "# Inequality Sign\n",
        "\n",
        "i = 2\n",
        "i != 6"
      ],
      "metadata": {
        "colab": {
          "base_uri": "https://localhost:8080/"
        },
        "id": "4bW7Baklhsaq",
        "outputId": "a7904f33-cd08-4c1a-ec0e-fdb6444833d8"
      },
      "execution_count": null,
      "outputs": [
        {
          "output_type": "execute_result",
          "data": {
            "text/plain": [
              "True"
            ]
          },
          "metadata": {},
          "execution_count": 8
        }
      ]
    },
    {
      "cell_type": "code",
      "source": [
        "# Inequality Sign\n",
        "\n",
        "i = 6\n",
        "i != 6"
      ],
      "metadata": {
        "colab": {
          "base_uri": "https://localhost:8080/"
        },
        "id": "MckhaQJ5iGjD",
        "outputId": "4e9cd7b4-9757-4884-f560-a1a93767b059"
      },
      "execution_count": null,
      "outputs": [
        {
          "output_type": "execute_result",
          "data": {
            "text/plain": [
              "False"
            ]
          },
          "metadata": {},
          "execution_count": 9
        }
      ]
    },
    {
      "cell_type": "code",
      "source": [
        "# Use Equality sign to compare the strings\n",
        "\n",
        "\"ACDC\" == \"Michael Jackson\""
      ],
      "metadata": {
        "colab": {
          "base_uri": "https://localhost:8080/"
        },
        "id": "jX8AeC-biLrq",
        "outputId": "fc77997b-d419-42ce-90ca-3704da3bfc5f"
      },
      "execution_count": null,
      "outputs": [
        {
          "output_type": "execute_result",
          "data": {
            "text/plain": [
              "False"
            ]
          },
          "metadata": {},
          "execution_count": 10
        }
      ]
    },
    {
      "cell_type": "code",
      "source": [
        "# Use Inequality sign to compare the strings\n",
        "\n",
        "\"ACDC\" != \"Michael Jackson\""
      ],
      "metadata": {
        "colab": {
          "base_uri": "https://localhost:8080/"
        },
        "id": "dBo_NYaKiQQT",
        "outputId": "aa6e83e1-f0ec-46b1-f4df-cb75acdb6667"
      },
      "execution_count": null,
      "outputs": [
        {
          "output_type": "execute_result",
          "data": {
            "text/plain": [
              "True"
            ]
          },
          "metadata": {},
          "execution_count": 11
        }
      ]
    },
    {
      "cell_type": "code",
      "source": [
        "# Compare characters\n",
        "\n",
        "'B' > 'A'"
      ],
      "metadata": {
        "colab": {
          "base_uri": "https://localhost:8080/"
        },
        "id": "PBsC5JYZicyr",
        "outputId": "9d362c23-d547-4c5a-c578-1ff5f9eebd52"
      },
      "execution_count": null,
      "outputs": [
        {
          "output_type": "execute_result",
          "data": {
            "text/plain": [
              "True"
            ]
          },
          "metadata": {},
          "execution_count": 12
        }
      ]
    },
    {
      "cell_type": "code",
      "source": [
        "# Compare characters\n",
        "\n",
        "'BA' > 'AB'"
      ],
      "metadata": {
        "colab": {
          "base_uri": "https://localhost:8080/"
        },
        "id": "Zh6K9SPBielS",
        "outputId": "2b64a1fb-1c08-4e63-dc29-7d7a7bbcc332"
      },
      "execution_count": null,
      "outputs": [
        {
          "output_type": "execute_result",
          "data": {
            "text/plain": [
              "True"
            ]
          },
          "metadata": {},
          "execution_count": 13
        }
      ]
    },
    {
      "cell_type": "code",
      "source": [
        "\"ba\" >= 'ba'"
      ],
      "metadata": {
        "colab": {
          "base_uri": "https://localhost:8080/"
        },
        "id": "eDM-jmGyikcz",
        "outputId": "04cb6bf8-7acb-4e4f-f62b-ab06d73b8d28"
      },
      "execution_count": null,
      "outputs": [
        {
          "output_type": "execute_result",
          "data": {
            "text/plain": [
              "True"
            ]
          },
          "metadata": {},
          "execution_count": 14
        }
      ]
    },
    {
      "cell_type": "code",
      "source": [
        "# If statement example\n",
        "\n",
        "#age = 19\n",
        "age = 18\n",
        "\n",
        "#expression that can be true or false\n",
        "if age > 18:\n",
        "\n",
        "    #within an indent, we have the expression that is run if the condition is true\n",
        "    print(\"you can enter\" )\n",
        "\n",
        "#The statements after the if statement will run regardless if the condition is true or false\n",
        "print(\"move on\")"
      ],
      "metadata": {
        "colab": {
          "base_uri": "https://localhost:8080/"
        },
        "id": "lyRS3d-Uiqxs",
        "outputId": "1cc0c56e-580b-4cb3-bb54-13761dda38f6"
      },
      "execution_count": null,
      "outputs": [
        {
          "output_type": "stream",
          "name": "stdout",
          "text": [
            "move on\n"
          ]
        }
      ]
    },
    {
      "cell_type": "code",
      "source": [
        "# Else statement example\n",
        "\n",
        "#age = 19\n",
        "age = 19\n",
        "\n",
        "if age > 18:\n",
        "    print(\"you can enter\")\n",
        "else:\n",
        "    print(\"go see Meat Loaf\")\n",
        "    #print(\"move on\")\n",
        "\n",
        "print(\"move on\")"
      ],
      "metadata": {
        "colab": {
          "base_uri": "https://localhost:8080/"
        },
        "id": "r-vkNm94i3G7",
        "outputId": "ee47c5f0-0a0a-48cd-a59c-79a1f1ff43dc"
      },
      "execution_count": null,
      "outputs": [
        {
          "output_type": "stream",
          "name": "stdout",
          "text": [
            "you can enter\n",
            "move on\n"
          ]
        }
      ]
    },
    {
      "cell_type": "code",
      "source": [
        "# Elif statment example\n",
        "\n",
        "age = 18\n",
        "\n",
        "if age > 18:\n",
        "    print(\"you can enter\" )\n",
        "elif age == 18:\n",
        "    print(\"go see Pink Floyd\")\n",
        "else:\n",
        "    print(\"go see Meat Loaf\" )\n",
        "\n",
        "print(\"move on\")"
      ],
      "metadata": {
        "colab": {
          "base_uri": "https://localhost:8080/"
        },
        "id": "hmCa2dkgksw1",
        "outputId": "95f351fa-747d-44af-e380-11014d5b71f9"
      },
      "execution_count": null,
      "outputs": [
        {
          "output_type": "stream",
          "name": "stdout",
          "text": [
            "go see Pink Floyd\n",
            "move on\n"
          ]
        }
      ]
    },
    {
      "cell_type": "code",
      "source": [
        "# Condition statement example\n",
        "\n",
        "album_year = 1983\n",
        "#album_year = 1970\n",
        "\n",
        "if album_year > 1980:\n",
        "    print(\"Album year is greater than 1980\")\n",
        "\n",
        "print('do something..')"
      ],
      "metadata": {
        "colab": {
          "base_uri": "https://localhost:8080/"
        },
        "id": "6RbqnrD-jqsz",
        "outputId": "d9d9b540-eb47-44d0-a2a2-49237e0606c3"
      },
      "execution_count": null,
      "outputs": [
        {
          "output_type": "stream",
          "name": "stdout",
          "text": [
            "Album year is greater than 1980\n",
            "do something..\n"
          ]
        }
      ]
    },
    {
      "cell_type": "code",
      "source": [
        "# Condition statement example\n",
        "\n",
        "#album_year = 1983\n",
        "album_year = 1970\n",
        "\n",
        "if album_year > 1980:\n",
        "    print(\"Album year is greater than 1980\")\n",
        "else:\n",
        "    print(\"less than 1980\")\n",
        "\n",
        "print('do something..')"
      ],
      "metadata": {
        "colab": {
          "base_uri": "https://localhost:8080/"
        },
        "id": "MSRGCdrsjvtD",
        "outputId": "8d41e4c4-e8b6-4a01-e464-e9effe325441"
      },
      "execution_count": null,
      "outputs": [
        {
          "output_type": "stream",
          "name": "stdout",
          "text": [
            "less than 1980\n",
            "do something..\n"
          ]
        }
      ]
    },
    {
      "cell_type": "code",
      "source": [
        "# Condition statement example\n",
        "\n",
        "album_year = 1980\n",
        "\n",
        "if(album_year > 1979) and (album_year < 1990):\n",
        "    print (\"Album year was in between 1980 and 1989\")\n",
        "\n",
        "print(\"\")\n",
        "print(\"Do Stuff..\")"
      ],
      "metadata": {
        "colab": {
          "base_uri": "https://localhost:8080/"
        },
        "id": "bfbxpvZVj2Bj",
        "outputId": "b9ba5392-3d61-4b3b-af44-7025e0d620df"
      },
      "execution_count": null,
      "outputs": [
        {
          "output_type": "stream",
          "name": "stdout",
          "text": [
            "Album year was in between 1980 and 1989\n",
            "\n",
            "Do Stuff..\n"
          ]
        }
      ]
    },
    {
      "cell_type": "code",
      "source": [
        "# Condition statement example\n",
        "\n",
        "album_year = 1978\n",
        "\n",
        "if(album_year < 1980) or (album_year > 1989):\n",
        "    print (\"Album was not made in the 1980's\")\n",
        "else:\n",
        "    print(\"The Album was made in the 1980's \")"
      ],
      "metadata": {
        "colab": {
          "base_uri": "https://localhost:8080/"
        },
        "id": "53TzaFHBj5T8",
        "outputId": "530391bd-8dd8-47e6-86f5-e628b3a979e9"
      },
      "execution_count": null,
      "outputs": [
        {
          "output_type": "stream",
          "name": "stdout",
          "text": [
            "Album was not made in the 1980's\n"
          ]
        }
      ]
    },
    {
      "cell_type": "code",
      "source": [
        "# Condition statement example\n",
        "\n",
        "album_year = 1984\n",
        "\n",
        "if not (album_year == '1984'):\n",
        "    print (\"Album year is not 1984\")"
      ],
      "metadata": {
        "colab": {
          "base_uri": "https://localhost:8080/"
        },
        "id": "x8bbiQSsj9gc",
        "outputId": "4e2461fb-c19d-4d33-e25d-e3c346616f72"
      },
      "execution_count": null,
      "outputs": [
        {
          "output_type": "stream",
          "name": "stdout",
          "text": [
            "Album year is not 1984\n"
          ]
        }
      ]
    },
    {
      "cell_type": "code",
      "source": [
        "# Menentukan rating sebuah album \"Black in Black\"\n",
        "\n",
        "rating = 8.5\n",
        "\n",
        "if rating > 8:\n",
        "    print(\"This album is Amazing\" )"
      ],
      "metadata": {
        "colab": {
          "base_uri": "https://localhost:8080/"
        },
        "id": "T5rY0Q8Kkv0k",
        "outputId": "6cef6ab3-a4e8-4445-d64b-af3e44d5ff6c"
      },
      "execution_count": null,
      "outputs": [
        {
          "output_type": "stream",
          "name": "stdout",
          "text": [
            "This album is Amazing\n"
          ]
        }
      ]
    },
    {
      "cell_type": "code",
      "source": [
        "# Menentukan rating \"Black in Black\"\n",
        "\n",
        "rating = 8.5\n",
        "if rating < 8:\n",
        "    print (\"this album is amazing\")\n",
        "else:\n",
        "    print (\"this album is ok\")"
      ],
      "metadata": {
        "colab": {
          "base_uri": "https://localhost:8080/"
        },
        "id": "jHsXHpq9mXrV",
        "outputId": "4a695982-2568-4106-8468-7971d0b94ad6"
      },
      "execution_count": null,
      "outputs": [
        {
          "output_type": "stream",
          "name": "stdout",
          "text": [
            "this album is ok\n"
          ]
        }
      ]
    },
    {
      "cell_type": "code",
      "source": [
        "# Menentukan apakah album keluar sebelum tahun 1980 atau tahun 1991 atau 1993\n",
        "album_year = 1979\n",
        "\n",
        "if album_year < 1980 or album_year == 1991 or album_year == 1993:\n",
        "    print (\"this album came out already\")"
      ],
      "metadata": {
        "colab": {
          "base_uri": "https://localhost:8080/"
        },
        "id": "TA1rf1nEnkFN",
        "outputId": "b3bca8f5-6f51-4d3f-8fab-6793ff1c10d9"
      },
      "execution_count": null,
      "outputs": [
        {
          "output_type": "stream",
          "name": "stdout",
          "text": [
            "this album came out already\n"
          ]
        }
      ]
    },
    {
      "cell_type": "code",
      "source": [
        "# Weekly Exercise 1\n",
        "# Membuat kode program berdasarkan flowchart\n",
        "\n",
        "# Mulai\n",
        "umur = 19\n",
        "if umur >= 17:\n",
        "    print(\"Boleh Membuat Sim\")\n",
        "elif umur <= 17:\n",
        "    print(\"Tidak Boleh Membuat Sim\")\n",
        "# Selesai"
      ],
      "metadata": {
        "colab": {
          "base_uri": "https://localhost:8080/"
        },
        "id": "PRq_rQ4EoQbV",
        "outputId": "61ec13a3-7cfa-43c7-c11e-7c2fdf5d7b81"
      },
      "execution_count": null,
      "outputs": [
        {
          "output_type": "stream",
          "name": "stdout",
          "text": [
            "Boleh Membuat Sim\n"
          ]
        }
      ]
    },
    {
      "cell_type": "code",
      "source": [
        "# Weekly Exercise 1\n",
        "# Membuat kode program berdasarkan flowchart\n",
        "\n",
        "# Mulai\n",
        "umur = float(input(\"Masukkan umur\"))\n",
        "\n",
        "if umur >= 17:\n",
        "    print(\"Boleh Membuat Sim\")\n",
        "elif umur <= 17:\n",
        "    print(\"Tidak Boleh Membuat Sim\")\n",
        "# Selesai"
      ],
      "metadata": {
        "colab": {
          "base_uri": "https://localhost:8080/"
        },
        "id": "ESZ9yrD32SDy",
        "outputId": "9eb902d2-66f0-4ba7-ac42-d8506789ae04"
      },
      "execution_count": null,
      "outputs": [
        {
          "output_type": "stream",
          "name": "stdout",
          "text": [
            "Masukkan umur 19\n",
            "Boleh Membuat Sim\n"
          ]
        }
      ]
    },
    {
      "cell_type": "code",
      "source": [
        "# Weekly Exercise 2\n",
        "# Membuat kode program berdasarkan flowchart\n",
        "\n",
        "# Mulai\n",
        "nilai = 38\n",
        "if nilai >= 90:\n",
        "    print('Grade = \"A\" ')\n",
        "elif nilai >= 80:\n",
        "    print('Grade = \"B+\" ')\n",
        "elif nilai >= 70:\n",
        "    print('Grade = \"B\" ')\n",
        "elif nilai >= 60:\n",
        "    print('Grade = \"C+\" ')\n",
        "elif nilai >= 50:\n",
        "    print('Grade = \"C\" ')\n",
        "elif nilai >= 40:\n",
        "    print('Grade = \"D\" ')\n",
        "elif nilai <40:\n",
        "    print('Cetak Grade \"E\" ')\n",
        "# Selesai"
      ],
      "metadata": {
        "colab": {
          "base_uri": "https://localhost:8080/"
        },
        "id": "2mS_sF3gqreP",
        "outputId": "80fe4e55-2c46-4825-c965-857106046fa2"
      },
      "execution_count": null,
      "outputs": [
        {
          "output_type": "stream",
          "name": "stdout",
          "text": [
            "Cetak Grade \"E\" \n"
          ]
        }
      ]
    },
    {
      "cell_type": "code",
      "source": [
        "nilai = float(input(\"Masukkan nilai\"))\n",
        "\n",
        "if nilai >= 90:\n",
        "    print('Grade = \"A\" ')\n",
        "elif nilai >= 80:\n",
        "    print('Grade = \"B+\" ')\n",
        "elif nilai >= 70:\n",
        "    print('Grade = \"B\" ')\n",
        "elif nilai >= 60:\n",
        "    print('Grade = \"C+\" ')\n",
        "elif nilai >= 50:\n",
        "    print('Grade = \"C\" ')\n",
        "elif nilai >= 40:\n",
        "    print('Grade = \"D\" ')\n",
        "elif nilai <40:\n",
        "    print('Cetak Grade \"E\" ')"
      ],
      "metadata": {
        "colab": {
          "base_uri": "https://localhost:8080/"
        },
        "id": "wayQmRSCAAPR",
        "outputId": "aa294b94-40fe-4818-990e-21467698f0de"
      },
      "execution_count": null,
      "outputs": [
        {
          "output_type": "stream",
          "name": "stdout",
          "text": [
            "Masukkan nilai 38\n",
            "Cetak Grade \"E\" \n"
          ]
        }
      ]
    },
    {
      "cell_type": "code",
      "source": [
        "# Weekly Exercise 3\n",
        "# Modifikasi kode program\n",
        "\n",
        "# Mulai\n",
        "Nilai = 100\n",
        "\n",
        "if 80.00<=Nilai<=100:\n",
        "  print('Grade = \"A\" ')\n",
        "elif 77.50<=Nilai<=79.99:\n",
        "  print('Grade = \"A-\" ')\n",
        "elif  75.00<=Nilai<=77.49:\n",
        "  print('Grade = \"A/B\" ')\n",
        "elif  72.50<=Nilai<=74.99:\n",
        "  print('Grade = \"B+\" ')\n",
        "elif  70.00<=Nilai<=72.49:\n",
        "  print('Grade = \"B\" ')\n",
        "elif  67.50<=Nilai<=69.99:\n",
        "  print('Grade = \"B-\" ')\n",
        "elif  65.00<=Nilai<=67.49:\n",
        "  print('Grade = \"B/C\" ')\n",
        "elif  62.50<=Nilai<=64.99:\n",
        "  print('Grade = \"C+\" ')\n",
        "elif  60.00<=Nilai<=62.49:\n",
        "  print('Grade = \"C\" ')\n",
        "elif  55.00<=Nilai<=59.99:\n",
        "  print('Grade = \"C-\" ')\n",
        "elif  50.00<=Nilai<=54.99:\n",
        "  print('Grade = \"C/D\" ')\n",
        "elif  45.00<=Nilai<=49.99:\n",
        "  print('Grade = \"D+\" ')\n",
        "elif 40.00<=Nilai<=44.99:\n",
        "  print('Grade = \"D\" ')\n",
        "elif Nilai <40.00:\n",
        "  print('Grade = \"E\" ')\n",
        "# Selesai"
      ],
      "metadata": {
        "colab": {
          "base_uri": "https://localhost:8080/"
        },
        "id": "HBxI7NVBTCSV",
        "outputId": "4d4077d0-19e2-4014-931b-d743b7e89b98"
      },
      "execution_count": null,
      "outputs": [
        {
          "output_type": "stream",
          "name": "stdout",
          "text": [
            "Grade = \"A\" \n"
          ]
        }
      ]
    },
    {
      "cell_type": "code",
      "source": [
        "# Mulai\n",
        "Nilai = float(input(\"Masukkan Nilai\"))\n",
        "\n",
        "if 80.00<=Nilai<=100:\n",
        "  print('Grade = \"A\" ')\n",
        "elif 77.50<=Nilai<=79.99:\n",
        "  print('Grade = \"A-\" ')\n",
        "elif  75.00<=Nilai<=77.49:\n",
        "  print('Grade = \"A/B\" ')\n",
        "elif  72.50<=Nilai<=74.99:\n",
        "  print('Grade = \"B+\" ')\n",
        "elif  70.00<=Nilai<=72.49:\n",
        "  print('Grade = \"B\" ')\n",
        "elif  67.50<=Nilai<=69.99:\n",
        "  print('Grade = \"B-\" ')\n",
        "elif  65.00<=Nilai<=67.49:\n",
        "  print('Grade = \"B/C\" ')\n",
        "elif  62.50<=Nilai<=64.99:\n",
        "  print('Grade = \"C+\" ')\n",
        "elif  60.00<=Nilai<=62.49:\n",
        "  print('Grade = \"C\" ')\n",
        "elif  55.00<=Nilai<=59.99:\n",
        "  print('Grade = \"C-\" ')\n",
        "elif  50.00<=Nilai<=54.99:\n",
        "  print('Grade = \"C/D\" ')\n",
        "elif  45.00<=Nilai<=49.99:\n",
        "  print('Grade = \"D+\" ')\n",
        "elif 40.00<=Nilai<=44.99:\n",
        "  print('Grade = \"D\" ')\n",
        "elif Nilai <40.00:\n",
        "  print('Grade = \"E\" ')\n",
        "# Selesai"
      ],
      "metadata": {
        "colab": {
          "base_uri": "https://localhost:8080/"
        },
        "id": "SmOZEn1wuTmI",
        "outputId": "0876bf44-53c0-4357-d6e0-817ef0a42f3c"
      },
      "execution_count": null,
      "outputs": [
        {
          "output_type": "stream",
          "name": "stdout",
          "text": [
            "Masukkan Nilai 100\n",
            "Grade = \"A\" \n"
          ]
        }
      ]
    }
  ]
}